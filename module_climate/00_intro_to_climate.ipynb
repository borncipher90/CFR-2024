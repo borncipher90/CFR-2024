{
 "cells": [
  {
   "cell_type": "markdown",
   "id": "2da0ff0e-c478-4055-8fa2-a528bbb468a4",
   "metadata": {},
   "source": [
    "# Introduction to Climate Science\n",
    "Welcome to the Coding Foundations of Research (CFR) module on Climate Science! In the next three weeks we'll learn about Earth's climate system, climate modeling, and working with multi-demensional datasets."
   ]
  },
  {
   "cell_type": "markdown",
   "id": "66fce718-a250-4a26-a4aa-c7407fbeb8a0",
   "metadata": {},
   "source": [
    "## What is Climate Science?\n",
    "Climate science is the study of the climate system of the earth with emphasis on the physical, dynamical, and chemical interactions of the atmosphere, ocean, land, ice, and the terrestrial and marine biospheres. The field encompasses changes on seasonal to interannual time scales and those induced by human activities, as well as paleoclimatic changes on time scales from centuries to millions of years.\n",
    "\n",
    "### Weather vs. Climate\n",
    "**Weather** refers to atmospheric conditions that occur locally over short periods of time—from minutes to hours or days. Familiar examples include rain, snow, clouds, winds, floods, or thunderstorms.\n",
    "\n",
    "**Climate**, refers to the long-term (usually at least 30 years) regional or even global average of temperature, humidity, and rainfall patterns over seasons, years, or decades.\n",
    "\n",
    "### The Climate System\n",
    "The Earth's Climate system consists of interacting **components**. These are:\n",
    "* **Atmosphere**: the air and clouds above the surface of the Earth. The atmosphere is about 10 km thick (more than two thirds of its mass is\n",
    "contained below that height).\n",
    "* **Ocean**: the bodies of water that cover more than two thirds of the Earth's surface. The ocean has an average depth of 4km.\n",
    "* **Cryosphere**: includes sea ice, mountain glaciers and ice sheets on land. *Sea ice* is frozen sea water, up to several meters thick, floating on the ocean. *Ice sheets* on land, made out of compressed snow, can be several kilometers thick.\n",
    "* **Biosphere**: all living things on land and in the oceans. This includes microscopic microbes, plants, animals, and even humans.\n",
    "* **Lithosphere**: the solid Earth (upper crust and mantle), could also be considered an active part of Earth’s climate sytem because it responds to ice load and impacts atmospheric carbon dioxide (CO2) concentrations and climate on long timescales through the movements of\n",
    "the continents."
   ]
  },
  {
   "cell_type": "markdown",
   "id": "fbb27840-cfb2-4276-ab56-26da4c32fa9e",
   "metadata": {},
   "source": [
    "## Why study Earth's climate?\n",
    "\n",
    "*Poll the class*"
   ]
  },
  {
   "cell_type": "markdown",
   "id": "21b6e1a6-1777-4509-9d1d-dc82d5958af2",
   "metadata": {},
   "source": [
    "## How do we study Earth's Climate?\n",
    "\n",
    "* **Direct measurements**\n",
    "    * in-situ measurements (i.e. on the ground, in the air, in the ocean, on/in ice)\n",
    "    * data from satellites in space\n",
    "    * instruments on the International Space Station\n",
    "* **In-direct measurements**\n",
    "    * *Biological proxies*: geologically preserved organisms (such as diatoms, forams, and coral), tree rings\n",
    "    * *Physcial proxies*: ice cores, sediment cores\n",
    "    * *Chemical proxies*: isotope ratios, elemental analyses, biomarkers, biogenic silica\n",
    "* **Theory and Simple Models**\n",
    "* **Complex Models (Computer Simulations)**\n",
    "* **Laboratory Experiments**"
   ]
  },
  {
   "cell_type": "markdown",
   "id": "cf3881d2-16e8-4b15-8367-288855c904d3",
   "metadata": {},
   "source": [
    "## Earth's Global Average Surface Temperature, a key climate indicator (1850-2023)\n",
    "The average temperature of the surface of the Earth is a powerful tool for quantifying Earth's climate and has profound impacts on human, biological, and physical systems. So what sets the mean surface temperature of the Earth?\n",
    "\n",
    "Let's start by looking at a record of Earth's average surface temperature to see what the recent climate has looked like."
   ]
  },
  {
   "cell_type": "code",
   "execution_count": 1,
   "id": "b7e8cd88-8dc5-464f-ab06-622b9a017d45",
   "metadata": {},
   "outputs": [],
   "source": [
    "# import packages\n",
    "import pandas as pd\n",
    "import matplotlib.pyplot as plt"
   ]
  },
  {
   "cell_type": "code",
   "execution_count": 2,
   "id": "ba1ba018-e094-4283-894a-96432638ce34",
   "metadata": {},
   "outputs": [],
   "source": [
    "# load data\n",
    "fname_in = '../data/GAST_BerkeleyEarth_1850-2023.csv'\n",
    "gast = pd.read_csv(fname_in)"
   ]
  },
  {
   "cell_type": "code",
   "execution_count": 3,
   "id": "1e50a878-1c4a-4f02-b968-8eb6dee80f8e",
   "metadata": {},
   "outputs": [
    {
     "data": {
      "text/html": [
       "<div>\n",
       "<style scoped>\n",
       "    .dataframe tbody tr th:only-of-type {\n",
       "        vertical-align: middle;\n",
       "    }\n",
       "\n",
       "    .dataframe tbody tr th {\n",
       "        vertical-align: top;\n",
       "    }\n",
       "\n",
       "    .dataframe thead th {\n",
       "        text-align: right;\n",
       "    }\n",
       "</style>\n",
       "<table border=\"1\" class=\"dataframe\">\n",
       "  <thead>\n",
       "    <tr style=\"text-align: right;\">\n",
       "      <th></th>\n",
       "      <th>Year</th>\n",
       "      <th>Month</th>\n",
       "      <th>Monthly Average</th>\n",
       "      <th>Monthly Anomaly Uncertainty</th>\n",
       "    </tr>\n",
       "  </thead>\n",
       "  <tbody>\n",
       "    <tr>\n",
       "      <th>0</th>\n",
       "      <td>1850</td>\n",
       "      <td>1</td>\n",
       "      <td>11.440</td>\n",
       "      <td>0.404</td>\n",
       "    </tr>\n",
       "    <tr>\n",
       "      <th>1</th>\n",
       "      <td>1850</td>\n",
       "      <td>2</td>\n",
       "      <td>12.197</td>\n",
       "      <td>0.524</td>\n",
       "    </tr>\n",
       "    <tr>\n",
       "      <th>2</th>\n",
       "      <td>1850</td>\n",
       "      <td>3</td>\n",
       "      <td>12.666</td>\n",
       "      <td>0.449</td>\n",
       "    </tr>\n",
       "    <tr>\n",
       "      <th>3</th>\n",
       "      <td>1850</td>\n",
       "      <td>4</td>\n",
       "      <td>13.345</td>\n",
       "      <td>0.304</td>\n",
       "    </tr>\n",
       "    <tr>\n",
       "      <th>4</th>\n",
       "      <td>1850</td>\n",
       "      <td>5</td>\n",
       "      <td>14.288</td>\n",
       "      <td>0.249</td>\n",
       "    </tr>\n",
       "    <tr>\n",
       "      <th>...</th>\n",
       "      <td>...</td>\n",
       "      <td>...</td>\n",
       "      <td>...</td>\n",
       "      <td>...</td>\n",
       "    </tr>\n",
       "    <tr>\n",
       "      <th>2083</th>\n",
       "      <td>2023</td>\n",
       "      <td>8</td>\n",
       "      <td>17.092</td>\n",
       "      <td>0.047</td>\n",
       "    </tr>\n",
       "    <tr>\n",
       "      <th>2084</th>\n",
       "      <td>2023</td>\n",
       "      <td>9</td>\n",
       "      <td>16.736</td>\n",
       "      <td>0.040</td>\n",
       "    </tr>\n",
       "    <tr>\n",
       "      <th>2085</th>\n",
       "      <td>2023</td>\n",
       "      <td>10</td>\n",
       "      <td>15.644</td>\n",
       "      <td>0.046</td>\n",
       "    </tr>\n",
       "    <tr>\n",
       "      <th>2086</th>\n",
       "      <td>2023</td>\n",
       "      <td>11</td>\n",
       "      <td>14.642</td>\n",
       "      <td>0.050</td>\n",
       "    </tr>\n",
       "    <tr>\n",
       "      <th>2087</th>\n",
       "      <td>2023</td>\n",
       "      <td>12</td>\n",
       "      <td>13.929</td>\n",
       "      <td>0.045</td>\n",
       "    </tr>\n",
       "  </tbody>\n",
       "</table>\n",
       "<p>2088 rows × 4 columns</p>\n",
       "</div>"
      ],
      "text/plain": [
       "      Year  Month  Monthly Average  Monthly Anomaly Uncertainty\n",
       "0     1850      1           11.440                        0.404\n",
       "1     1850      2           12.197                        0.524\n",
       "2     1850      3           12.666                        0.449\n",
       "3     1850      4           13.345                        0.304\n",
       "4     1850      5           14.288                        0.249\n",
       "...    ...    ...              ...                          ...\n",
       "2083  2023      8           17.092                        0.047\n",
       "2084  2023      9           16.736                        0.040\n",
       "2085  2023     10           15.644                        0.046\n",
       "2086  2023     11           14.642                        0.050\n",
       "2087  2023     12           13.929                        0.045\n",
       "\n",
       "[2088 rows x 4 columns]"
      ]
     },
     "execution_count": 3,
     "metadata": {},
     "output_type": "execute_result"
    }
   ],
   "source": [
    "gast"
   ]
  },
  {
   "cell_type": "markdown",
   "id": "18b22b9c-110b-491d-a6d5-36890cb95c08",
   "metadata": {},
   "source": [
    "We'll add a datetime column to make using Pandas a little easier"
   ]
  },
  {
   "cell_type": "code",
   "execution_count": 4,
   "id": "d390aa50-2bb0-479a-9a36-b4fb7257adf7",
   "metadata": {},
   "outputs": [],
   "source": [
    "gast['Time'] = pd.to_datetime(gast[['Year','Month']].assign(Day=1))"
   ]
  },
  {
   "cell_type": "code",
   "execution_count": 5,
   "id": "a719680e-914f-484c-8f8e-eecdc9d66f76",
   "metadata": {},
   "outputs": [],
   "source": [
    "df = gast.set_index('Time')[['Monthly Average','Monthly Anomaly Uncertainty']]"
   ]
  },
  {
   "cell_type": "markdown",
   "id": "245fb22b-b18e-48ad-ab24-0e2645c3fbd8",
   "metadata": {},
   "source": [
    "The dataframe `df` now holds the *time series* of monthly averaged global average surface temperature of Earth. A time series is a series of values of a quantity obtained at successive times, often with equal intervals between them.\n",
    "\n",
    "**Plot the time series of the monthly averaged global average surface temperature of Earth.**"
   ]
  },
  {
   "cell_type": "code",
   "execution_count": 6,
   "id": "46006899-a9eb-40ab-983a-d56c0535535b",
   "metadata": {},
   "outputs": [
    {
     "data": {
      "image/png": "[encoded data removed]",
      "text/plain": [
       "<Figure size 640x480 with 1 Axes>"
      ]
     },
     "metadata": {},
     "output_type": "display_data"
    }
   ],
   "source": [
    "# plot the monthly average gast\n",
    "plt.plot(df.index,df['Monthly Average'])\n",
    "plt.ylabel(r'[$^\\circ$ C]')\n",
    "plt.xlabel('Time[Years]')\n",
    "plt.title('Earth\\'s Global Average Surface Temperature')\n",
    "plt.grid()\n",
    "plt.show()"
   ]
  },
  {
   "cell_type": "markdown",
   "id": "180bdd7a-047f-45a8-9906-1849b8d9d17a",
   "metadata": {},
   "source": [
    "What do you notice?\n",
    "\n",
    "[put your notes here]"
   ]
  },
  {
   "cell_type": "markdown",
   "id": "5d6b8ebe-5803-4fe9-871e-a58b904dadc5",
   "metadata": {},
   "source": [
    "Let's make the plot again but overlay a rolling average of the monthly data so we get a sense of the record if that doesn't include the anual cycle of Earth's global average surface temperature"
   ]
  },
  {
   "cell_type": "code",
   "execution_count": null,
   "id": "b5ddf815-dcb6-4781-a819-998d16aaf1c7",
   "metadata": {},
   "outputs": [],
   "source": [
    "# plot the monthly average gast with rolling average"
   ]
  },
  {
   "cell_type": "markdown",
   "id": "4bf3e552-a290-4545-90ce-4af31d81de34",
   "metadata": {},
   "source": [
    "It can be useful to look at longer averages of the temperature record that average over the annual cycle of the temperature record, which is related to natural cycles in Earth's climate system. Let's make a new time series that is the average GAST for each year in the reccord."
   ]
  },
  {
   "cell_type": "code",
   "execution_count": null,
   "id": "d0f367cb-a8b4-4b84-b27b-5640ae574f21",
   "metadata": {},
   "outputs": [],
   "source": []
  },
  {
   "cell_type": "code",
   "execution_count": null,
   "id": "5351f7fd-c714-491f-935a-71063c667ec8",
   "metadata": {},
   "outputs": [],
   "source": []
  },
  {
   "cell_type": "markdown",
   "id": "7800ba5a-764d-4624-b401-ad7fd0869b43",
   "metadata": {},
   "source": [
    "### Assignment\n",
    "\n",
    "Visualize, in your own way how the Earth's climate has evolved over the 1850-2023 time period. Remember that climate referes to a long-term average, usually over 30 years in length. You may chose to do this with line plots, histograms, bar charts. You can use the monthly or annually averaged dataset, or both. Add notes about why you chose your particular visualization. What kind of question did you want to answer?"
   ]
  },
  {
   "cell_type": "code",
   "execution_count": null,
   "id": "63ccaeca-d12b-40e6-9cd6-4b4090c55f43",
   "metadata": {},
   "outputs": [],
   "source": []
  }
 ],
 "metadata": {
  "kernelspec": {
   "display_name": "Python 3 (ipykernel)",
   "language": "python",
   "name": "python3"
  },
  "language_info": {
   "codemirror_mode": {
    "name": "ipython",
    "version": 3
   },
   "file_extension": ".py",
   "mimetype": "text/x-python",
   "name": "python",
   "nbconvert_exporter": "python",
   "pygments_lexer": "ipython3",
   "version": "3.11.7"
  }
 },
 "nbformat": 4,
 "nbformat_minor": 5
}
