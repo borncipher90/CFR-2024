{
 "cells": [
  {
   "cell_type": "markdown",
   "metadata": {},
   "source": [
    "# Session 5: From Single to Multiple Values: Arrays and NumPy\n",
    "\n",
    "## Overview\n",
    "This tutorial builds on your knowledge of variables, assignments, and functions by introducing arrays and the NumPy library in Python. By the end of this session, you will understand how to create and manipulate arrays, perform operations on multiple arrays, and use NumPy functions for efficient calculations.\n",
    "\n",
    "## Prerequisites\n",
    "- Basic understanding of Python variables, data types, and functions\n"
   ]
  },
  {
   "cell_type": "markdown",
   "metadata": {},
   "source": [
    "## Part 1: Introduction to Arrays (15 minutes)\n",
    "\n",
    "### What is an Array?\n",
    "- An array is a data structure that can hold multiple values of the same type.\n",
    "- Arrays are useful for storing lists of data and performing operations on multiple elements at once.\n"
   ]
  },
  {
   "cell_type": "markdown",
   "metadata": {},
   "source": [
    "### Creating an Array\n",
    "In Python, arrays can be created using lists.\n",
    "\n",
    "#### Example:\n"
   ]
  },
  {
   "cell_type": "code",
   "execution_count": 1,
   "metadata": {},
   "outputs": [
    {
     "name": "stdout",
     "output_type": "stream",
     "text": [
      "[10.2, 30, 40, 50]\n"
     ]
    }
   ],
   "source": [
    "array = [10.20,30,40,50]\n",
    "print(array)"
   ]
  },
  {
   "cell_type": "code",
   "execution_count": null,
   "metadata": {},
   "outputs": [],
   "source": [
    "\n"
   ]
  },
  {
   "cell_type": "markdown",
   "metadata": {},
   "source": [
    "### Accessing Elements\n",
    "Elements in an array can be accessed using their index.\n",
    "\n",
    "#### Example:\n"
   ]
  },
  {
   "cell_type": "code",
   "execution_count": 5,
   "metadata": {},
   "outputs": [
    {
     "name": "stdout",
     "output_type": "stream",
     "text": [
      "10.2\n"
     ]
    }
   ],
   "source": [
    "print(array[0])\n"
   ]
  },
  {
   "cell_type": "markdown",
   "metadata": {},
   "source": [
    "### Modifying Elements\n",
    "You can modify elements in an array by assigning new values to specific indices.\n",
    "\n",
    "#### Example:\n"
   ]
  },
  {
   "cell_type": "code",
   "execution_count": 7,
   "metadata": {},
   "outputs": [
    {
     "name": "stdout",
     "output_type": "stream",
     "text": [
      "[10, 20, 100, 40, 50]\n"
     ]
    }
   ],
   "source": [
    "array[2] = 100\n",
    "print(array)\n"
   ]
  },
  {
   "cell_type": "markdown",
   "metadata": {},
   "source": [
    "### Practice Problem 1\n",
    "- Create an array of numbers with the values `[10, 20, 30, 40, 50]`.\n",
    "- Change the second element to 25.\n",
    "- Print the modified array.\n",
    "\n",
    "#### Solution:\n"
   ]
  },
  {
   "cell_type": "code",
   "execution_count": 8,
   "metadata": {},
   "outputs": [
    {
     "name": "stdout",
     "output_type": "stream",
     "text": [
      "[10, 20, 30, 40, 50]\n",
      "[10, 25, 30, 40, 50]\n"
     ]
    }
   ],
   "source": [
    "\n",
    "array = [10,20,30,40,50]\n",
    "print(array)\n",
    "array [1] = 25\n",
    "print(array)\n"
   ]
  },
  {
   "cell_type": "markdown",
   "metadata": {},
   "source": [
    "### Installing NumPy (should already be installed)\n",
    "NumPy can be installed using pip: pip install numpy\n"
   ]
  },
  {
   "cell_type": "markdown",
   "metadata": {},
   "source": [
    "### Creating NumPy Arrays\n",
    "\n",
    "#### Example:\n"
   ]
  },
  {
   "cell_type": "code",
   "execution_count": 9,
   "metadata": {},
   "outputs": [
    {
     "name": "stdout",
     "output_type": "stream",
     "text": [
      "[1 2 3 4 5]\n"
     ]
    }
   ],
   "source": [
    "import numpy as np\n",
    "\n",
    "arr = np.array([1,2,3,4,5])\n",
    "print(arr)"
   ]
  },
  {
   "cell_type": "markdown",
   "metadata": {},
   "source": [
    "### Basic Operations\n",
    "\n",
    "#### Example:\n"
   ]
  },
  {
   "cell_type": "code",
   "execution_count": 11,
   "metadata": {},
   "outputs": [
    {
     "name": "stdout",
     "output_type": "stream",
     "text": [
      "[11 12 13 14 15]\n",
      "[10, 25, 30, 40, 50, 10, 25, 30, 40, 50]\n"
     ]
    }
   ],
   "source": [
    "arr = np.array([1,2,3,4,5])\n",
    "print(arr + 10) # Output: [11 12 13 14 15]\n",
    "print(array * 2) # Output: [ 2 4 6 8 10]\n"
   ]
  },
  {
   "cell_type": "markdown",
   "metadata": {},
   "source": [
    "### Practice Problem 2\n",
    "- Create a NumPy array `my_array` with values `[5, 10, 15, 20, 25]`.\n",
    "- Multiply each element by 3 and print the result.\n",
    "\n",
    "#### Solution:\n"
   ]
  },
  {
   "cell_type": "code",
   "execution_count": 12,
   "metadata": {},
   "outputs": [
    {
     "name": "stdout",
     "output_type": "stream",
     "text": [
      "[15 30 45 60 75]\n"
     ]
    }
   ],
   "source": [
    "arr = np.array([5,10,15,20,25])\n",
    "print(arr * 3) "
   ]
  },
  {
   "cell_type": "markdown",
   "metadata": {},
   "source": [
    "## Part 3: Manipulating Arrays (20 minutes)\n",
    "\n",
    "### Element-wise Operations\n",
    "NumPy allows element-wise operations on arrays.\n",
    "\n",
    "#### Example:\n"
   ]
  },
  {
   "cell_type": "code",
   "execution_count": 18,
   "metadata": {},
   "outputs": [
    {
     "name": "stdout",
     "output_type": "stream",
     "text": [
      "[5 7 9]\n",
      "[ 4 10 18]\n"
     ]
    }
   ],
   "source": [
    "\n",
    "arr1 = np.array([1,2,3])\n",
    "arr2 = np.array([4,5,6])\n",
    "print(arr1 + arr2) \n",
    "print(arr1 * arr2) "
   ]
  },
  {
   "cell_type": "markdown",
   "metadata": {},
   "source": [
    "### Universal Functions\n",
    "NumPy provides universal functions for element-wise operations.\n",
    "\n",
    "#### Example:\n"
   ]
  },
  {
   "cell_type": "code",
   "execution_count": 16,
   "metadata": {},
   "outputs": [
    {
     "name": "stdout",
     "output_type": "stream",
     "text": [
      "[1.         1.41421356 1.73205081 2.         2.23606798]\n"
     ]
    }
   ],
   "source": [
    "arr = np.array([1,2,3,4,5])\n",
    "print(np.sqrt(arr)) # output: [1. 1.41421356 1.73205081 2.  2.23606798]\n"
   ]
  },
  {
   "cell_type": "code",
   "execution_count": null,
   "metadata": {},
   "outputs": [],
   "source": []
  },
  {
   "cell_type": "markdown",
   "metadata": {},
   "source": [
    "### Practice Problem 3\n",
    "- Create two NumPy arrays `a` and `b` with values `[1, 2, 3]` and `[4, 5, 6]` respectively.\n",
    "- Add the two arrays and print the result.\n",
    "- Calculate the square root of the resulting array and print it.\n",
    "\n",
    "#### Solution:\n"
   ]
  },
  {
   "cell_type": "code",
   "execution_count": 31,
   "metadata": {},
   "outputs": [
    {
     "name": "stdout",
     "output_type": "stream",
     "text": [
      "[[2.23606798 2.64575131 3.        ]]\n"
     ]
    }
   ],
   "source": [
    "a = np.array([1,2,3])\n",
    "b = np.array([4,5,6,])\n",
    "c = np.array([a + b])\n",
    "print(np.sqrt(c))"
   ]
  },
  {
   "cell_type": "markdown",
   "metadata": {},
   "source": [
    "## Part 4: Working with Multiple Arrays (20 minutes)\n",
    "\n",
    "### Stacking Arrays\n",
    "Arrays can be stacked together using `np.vstack` (vertical stack) and `np.hstack` (horizontal stack).\n",
    "\n",
    "#### Example:\n"
   ]
  },
  {
   "cell_type": "code",
   "execution_count": 21,
   "metadata": {},
   "outputs": [
    {
     "name": "stdout",
     "output_type": "stream",
     "text": [
      "[[1 2 3]\n",
      " [4 5 6]]\n"
     ]
    }
   ],
   "source": [
    "arr1 = np.array([1,2,3])\n",
    "arr2 = np.array([4,5,6])\n",
    "print(np.vstack((arr1,arr2)))"
   ]
  },
  {
   "cell_type": "markdown",
   "metadata": {},
   "source": [
    "### Reshaping Arrays\n",
    "Arrays can be reshaped using the `reshape` method.\n",
    "\n",
    "#### Example:\n"
   ]
  },
  {
   "cell_type": "code",
   "execution_count": 24,
   "metadata": {},
   "outputs": [
    {
     "name": "stdout",
     "output_type": "stream",
     "text": [
      "[[1 2 3]\n",
      " [4 5 6]]\n"
     ]
    }
   ],
   "source": [
    "arr = np.array([1,2,3,4,5,6])\n",
    "reshaped_arr = arr.reshape(2,3)\n",
    "print(reshaped_arr)\n"
   ]
  },
  {
   "cell_type": "markdown",
   "metadata": {},
   "source": [
    "### Practice Problem 4\n",
    "- Create a NumPy array `c` with values `[7, 8, 9]`.\n",
    "- Stack `a` and `c` vertically and print the result.\n",
    "- Reshape the result into a 3x2 array and print it.\n",
    "\n",
    "#### Solution:\n"
   ]
  },
  {
   "cell_type": "code",
   "execution_count": 27,
   "metadata": {},
   "outputs": [
    {
     "name": "stdout",
     "output_type": "stream",
     "text": [
      "[[10 11 12]\n",
      " [ 7  8  9]]\n",
      "[[10 11]\n",
      " [12  7]\n",
      " [ 8  9]]\n"
     ]
    }
   ],
   "source": [
    "c = np.array([7,8,9])\n",
    "a = np.array([10,11,12])\n",
    "print(np.vstack((a,c)))\n",
    "\n",
    "b = np.vstack((a,c))\n",
    "print(b.reshape(3, 2))"
   ]
  },
  {
   "cell_type": "markdown",
   "metadata": {},
   "source": [
    "## Part 5: NumPy Functions for Multiple Values (20 minutes)\n",
    "\n",
    "### Using NumPy for Mathematical Operations\n",
    "\n",
    "#### Example:\n"
   ]
  },
  {
   "cell_type": "code",
   "execution_count": null,
   "metadata": {},
   "outputs": [],
   "source": [
    "arr = np.array9[1,2,3,4,5,])\n",
    "print(np.mean(arr))"
   ]
  },
  {
   "cell_type": "markdown",
   "metadata": {},
   "source": [
    "### Solving Equations with NumPy\n",
    "NumPy can solve equations efficiently.\n",
    "\n",
    "#### Example:\n",
    "# Solving a system of linear equations:\n",
    "# 2x + y = 5\n",
    "# x + 3y = 10\n"
   ]
  },
  {
   "cell_type": "code",
   "execution_count": 32,
   "metadata": {},
   "outputs": [
    {
     "name": "stdout",
     "output_type": "stream",
     "text": [
      "[1. 3.]\n"
     ]
    }
   ],
   "source": [
    "A = np.array([[2,1], [1,3]])\n",
    "B = np.array([5, 10])\n",
    "solution = np.linalg.solve(A, B)\n",
    "print(solution)"
   ]
  },
  {
   "cell_type": "markdown",
   "metadata": {},
   "source": [
    "### Practice Problem 5\n",
    "- Create a NumPy array `d` with values `[10, 20, 30, 40, 50]`.\n",
    "- Calculate the mean, sum, max, and min of the array `d` and print the results.\n",
    "- Solve the following system of equations using NumPy:\n",
    "  - 3x + 2y = 18\n",
    "  - 2x + 3y = 18\n",
    "\n",
    "#### Solution:\n"
   ]
  },
  {
   "cell_type": "code",
   "execution_count": 38,
   "metadata": {},
   "outputs": [
    {
     "name": "stdout",
     "output_type": "stream",
     "text": [
      "30.0\n",
      "150\n",
      "50\n",
      "10\n"
     ]
    }
   ],
   "source": [
    "d = np.array([10,20,30,40,50])\n",
    "print(np.mean(d))\n",
    "print(np.sum(d))\n",
    "print(np.max(d))\n",
    "print(np.min(d)) \n",
    "\n",
    "A = np.array(3, \n",
    "\n",
    "            "
   ]
  },
  {
   "cell_type": "markdown",
   "metadata": {},
   "source": [
    "## Conclusion and Q&A (10 minutes)\n",
    "- Review the key concepts covered: arrays, NumPy, element-wise operations, stacking and reshaping arrays, and using NumPy functions for calculations.\n",
    "- Encourage practice and experimentation.\n",
    "- Open the floor for any questions and further clarifications.\n"
   ]
  },
  {
   "cell_type": "markdown",
   "metadata": {},
   "source": []
  }
 ],
 "metadata": {
  "kernelspec": {
   "display_name": "Python 3 (ipykernel)",
   "language": "python",
   "name": "python3"
  },
  "language_info": {
   "codemirror_mode": {
    "name": "ipython",
    "version": 3
   },
   "file_extension": ".py",
   "mimetype": "text/x-python",
   "name": "python",
   "nbconvert_exporter": "python",
   "pygments_lexer": "ipython3",
   "version": "3.11.7"
  }
 },
 "nbformat": 4,
 "nbformat_minor": 4
}
