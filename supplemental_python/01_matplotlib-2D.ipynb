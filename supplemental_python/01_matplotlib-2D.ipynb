{
 "cells": [
  {
   "cell_type": "markdown",
   "id": "84a93165-7f74-4a34-9565-ac8af64ee6e5",
   "metadata": {},
   "source": [
    "# Visualizing 2D data with `matplotlib`\n",
    "\n",
    "Dataset for this module: https://berkeley-earth-temperature.s3.us-west-1.amazonaws.com/Global/Gridded/Land_and_Ocean_EqualArea.nc\n",
    "\n",
    "Reference on plotting: https://earth-env-data-science.github.io/lectures/basic_scipy/more_matplotlib.html#d-plotting-methods\n",
    "Reference on reading in netcdf files with xarray: https://earth-env-data-science.github.io/lectures/xarray/xarray.html#loading-data-from-netcdf-files\n",
    "\n",
    "Please use this notebook to develop a 1.5 hr module to:\n",
    "- load in the gridded dataset of earth's surface temperature\n",
    "- select one time point for plotting (`.isel(time=n)`)\n",
    "- plot the surface temperature of the earth using pcolormesh\n",
    "- customize the plots by adjusting colorscale, colormaps, axis limits"
   ]
  },
  {
   "cell_type": "code",
   "execution_count": 1,
   "id": "8b78bb95-2bf3-42fb-9a48-87afe854e01e",
   "metadata": {},
   "outputs": [],
   "source": [
    "import xarray as xr\n",
    "\n",
    "data_file = '../data/Land_and_Ocean_EqualArea.nc'\n",
    "ds = xr.open_dataset(data_file)\n"
   ]
  },
  {
   "cell_type": "raw",
   "id": "57931f9d-2438-43d7-ac84-d60411a9c022",
   "metadata": {},
   "source": [
    "print(ds)"
   ]
  },
  {
   "cell_type": "code",
   "execution_count": null,
   "id": "55c21a2c-f129-4b44-bd15-f8405a48cefe",
   "metadata": {},
   "outputs": [],
   "source": [
    "import matplotlib.pyplot as plt\n",
    "import numpy as np\n",
    "\n",
    "longitutde = np.unique(ds.longitude.values) # remove duplicate values\n",
    "latitude = np.unique(ds.latitude.values)\n",
    "temperatures =ds.temperature.isel(time+-1)\n",
    "\n",
    "plt.pcolormesh(longitude, latitude, temperatures, "
   ]
  }
 ],
 "metadata": {
  "kernelspec": {
   "display_name": "Python 3 (ipykernel)",
   "language": "python",
   "name": "python3"
  },
  "language_info": {
   "codemirror_mode": {
    "name": "ipython",
    "version": 3
   },
   "file_extension": ".py",
   "mimetype": "text/x-python",
   "name": "python",
   "nbconvert_exporter": "python",
   "pygments_lexer": "ipython3",
   "version": "3.11.7"
  }
 },
 "nbformat": 4,
 "nbformat_minor": 5
}
